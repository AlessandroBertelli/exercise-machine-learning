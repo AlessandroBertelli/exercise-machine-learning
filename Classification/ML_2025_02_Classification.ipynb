{
  "nbformat": 4,
  "nbformat_minor": 0,
  "metadata": {
    "colab": {
      "provenance": []
    },
    "kernelspec": {
      "name": "python3",
      "display_name": "Python 3"
    }
  },
  "cells": [
    {
      "cell_type": "markdown",
      "metadata": {
        "id": "DCzr7kkTJ_q-"
      },
      "source": [
        "# Classification\n",
        "\n",
        "From lesson we learned that 3 approaches are possible for classification:\n",
        "- **Discriminant function approach**:\n",
        "  + model a *function* that maps inputs to classes\n",
        "  + fit model to data\n",
        "- **Probabilistic discriminative approach**:\n",
        "  + model a *conditional probability* $P(C_k | x)$\n",
        "  + fit model to data\n",
        "- **Probabilistic generative approach**:\n",
        "  + model *likelihood* $P(x | C_k)$ and *prior* $P(C_k)$\n",
        "  + fit models to data\n",
        "  + infer posterior $P(C_k | x) = \\frac{P(C_k)P(x|C_k)}{P(x)}$"
      ]
    },
    {
      "cell_type": "markdown",
      "metadata": {
        "id": "eM2M4e0VfjIv"
      },
      "source": [
        "## Iris dataset for classification\n",
        "\n",
        "In this session, we take into account again the Iris dataset.\n",
        "This time we are more interested in the discrimination of the sample class, i.e., either Setosa, Versicolor or Virginica."
      ]
    },
    {
      "cell_type": "code",
      "metadata": {
        "id": "-1CPHrt2JyRW"
      },
      "source": [
        "import pandas as pd\n",
        "import numpy as np\n",
        "import matplotlib.pyplot as plt\n",
        "\n",
        "url = \"https://archive.ics.uci.edu/ml/machine-learning-databases/iris/iris.data\"\n",
        "names = ['sepal-length', 'sepal-width', 'petal-length', 'petal-width', 'class']\n",
        "dataset = pd.read_csv(url, names=names)"
      ],
      "execution_count": null,
      "outputs": []
    },
    {
      "cell_type": "code",
      "metadata": {
        "id": "55uHot9dGff5",
        "colab": {
          "base_uri": "https://localhost:8080/",
          "height": 206
        },
        "outputId": "0f6a364f-cb55-4ba0-e458-c35bcf06b16e"
      },
      "source": [
        "dataset.head()"
      ],
      "execution_count": null,
      "outputs": [
        {
          "output_type": "execute_result",
          "data": {
            "text/plain": [
              "   sepal-length  sepal-width  petal-length  petal-width        class\n",
              "0           5.1          3.5           1.4          0.2  Iris-setosa\n",
              "1           4.9          3.0           1.4          0.2  Iris-setosa\n",
              "2           4.7          3.2           1.3          0.2  Iris-setosa\n",
              "3           4.6          3.1           1.5          0.2  Iris-setosa\n",
              "4           5.0          3.6           1.4          0.2  Iris-setosa"
            ],
            "text/html": [
              "\n",
              "  <div id=\"df-58d46c0c-c962-472b-acb4-6ae0966a7c41\" class=\"colab-df-container\">\n",
              "    <div>\n",
              "<style scoped>\n",
              "    .dataframe tbody tr th:only-of-type {\n",
              "        vertical-align: middle;\n",
              "    }\n",
              "\n",
              "    .dataframe tbody tr th {\n",
              "        vertical-align: top;\n",
              "    }\n",
              "\n",
              "    .dataframe thead th {\n",
              "        text-align: right;\n",
              "    }\n",
              "</style>\n",
              "<table border=\"1\" class=\"dataframe\">\n",
              "  <thead>\n",
              "    <tr style=\"text-align: right;\">\n",
              "      <th></th>\n",
              "      <th>sepal-length</th>\n",
              "      <th>sepal-width</th>\n",
              "      <th>petal-length</th>\n",
              "      <th>petal-width</th>\n",
              "      <th>class</th>\n",
              "    </tr>\n",
              "  </thead>\n",
              "  <tbody>\n",
              "    <tr>\n",
              "      <th>0</th>\n",
              "      <td>5.1</td>\n",
              "      <td>3.5</td>\n",
              "      <td>1.4</td>\n",
              "      <td>0.2</td>\n",
              "      <td>Iris-setosa</td>\n",
              "    </tr>\n",
              "    <tr>\n",
              "      <th>1</th>\n",
              "      <td>4.9</td>\n",
              "      <td>3.0</td>\n",
              "      <td>1.4</td>\n",
              "      <td>0.2</td>\n",
              "      <td>Iris-setosa</td>\n",
              "    </tr>\n",
              "    <tr>\n",
              "      <th>2</th>\n",
              "      <td>4.7</td>\n",
              "      <td>3.2</td>\n",
              "      <td>1.3</td>\n",
              "      <td>0.2</td>\n",
              "      <td>Iris-setosa</td>\n",
              "    </tr>\n",
              "    <tr>\n",
              "      <th>3</th>\n",
              "      <td>4.6</td>\n",
              "      <td>3.1</td>\n",
              "      <td>1.5</td>\n",
              "      <td>0.2</td>\n",
              "      <td>Iris-setosa</td>\n",
              "    </tr>\n",
              "    <tr>\n",
              "      <th>4</th>\n",
              "      <td>5.0</td>\n",
              "      <td>3.6</td>\n",
              "      <td>1.4</td>\n",
              "      <td>0.2</td>\n",
              "      <td>Iris-setosa</td>\n",
              "    </tr>\n",
              "  </tbody>\n",
              "</table>\n",
              "</div>\n",
              "    <div class=\"colab-df-buttons\">\n",
              "\n",
              "  <div class=\"colab-df-container\">\n",
              "    <button class=\"colab-df-convert\" onclick=\"convertToInteractive('df-58d46c0c-c962-472b-acb4-6ae0966a7c41')\"\n",
              "            title=\"Convert this dataframe to an interactive table.\"\n",
              "            style=\"display:none;\">\n",
              "\n",
              "  <svg xmlns=\"http://www.w3.org/2000/svg\" height=\"24px\" viewBox=\"0 -960 960 960\">\n",
              "    <path d=\"M120-120v-720h720v720H120Zm60-500h600v-160H180v160Zm220 220h160v-160H400v160Zm0 220h160v-160H400v160ZM180-400h160v-160H180v160Zm440 0h160v-160H620v160ZM180-180h160v-160H180v160Zm440 0h160v-160H620v160Z\"/>\n",
              "  </svg>\n",
              "    </button>\n",
              "\n",
              "  <style>\n",
              "    .colab-df-container {\n",
              "      display:flex;\n",
              "      gap: 12px;\n",
              "    }\n",
              "\n",
              "    .colab-df-convert {\n",
              "      background-color: #E8F0FE;\n",
              "      border: none;\n",
              "      border-radius: 50%;\n",
              "      cursor: pointer;\n",
              "      display: none;\n",
              "      fill: #1967D2;\n",
              "      height: 32px;\n",
              "      padding: 0 0 0 0;\n",
              "      width: 32px;\n",
              "    }\n",
              "\n",
              "    .colab-df-convert:hover {\n",
              "      background-color: #E2EBFA;\n",
              "      box-shadow: 0px 1px 2px rgba(60, 64, 67, 0.3), 0px 1px 3px 1px rgba(60, 64, 67, 0.15);\n",
              "      fill: #174EA6;\n",
              "    }\n",
              "\n",
              "    .colab-df-buttons div {\n",
              "      margin-bottom: 4px;\n",
              "    }\n",
              "\n",
              "    [theme=dark] .colab-df-convert {\n",
              "      background-color: #3B4455;\n",
              "      fill: #D2E3FC;\n",
              "    }\n",
              "\n",
              "    [theme=dark] .colab-df-convert:hover {\n",
              "      background-color: #434B5C;\n",
              "      box-shadow: 0px 1px 3px 1px rgba(0, 0, 0, 0.15);\n",
              "      filter: drop-shadow(0px 1px 2px rgba(0, 0, 0, 0.3));\n",
              "      fill: #FFFFFF;\n",
              "    }\n",
              "  </style>\n",
              "\n",
              "    <script>\n",
              "      const buttonEl =\n",
              "        document.querySelector('#df-58d46c0c-c962-472b-acb4-6ae0966a7c41 button.colab-df-convert');\n",
              "      buttonEl.style.display =\n",
              "        google.colab.kernel.accessAllowed ? 'block' : 'none';\n",
              "\n",
              "      async function convertToInteractive(key) {\n",
              "        const element = document.querySelector('#df-58d46c0c-c962-472b-acb4-6ae0966a7c41');\n",
              "        const dataTable =\n",
              "          await google.colab.kernel.invokeFunction('convertToInteractive',\n",
              "                                                    [key], {});\n",
              "        if (!dataTable) return;\n",
              "\n",
              "        const docLinkHtml = 'Like what you see? Visit the ' +\n",
              "          '<a target=\"_blank\" href=https://colab.research.google.com/notebooks/data_table.ipynb>data table notebook</a>'\n",
              "          + ' to learn more about interactive tables.';\n",
              "        element.innerHTML = '';\n",
              "        dataTable['output_type'] = 'display_data';\n",
              "        await google.colab.output.renderOutput(dataTable, element);\n",
              "        const docLink = document.createElement('div');\n",
              "        docLink.innerHTML = docLinkHtml;\n",
              "        element.appendChild(docLink);\n",
              "      }\n",
              "    </script>\n",
              "  </div>\n",
              "\n",
              "\n",
              "<div id=\"df-1c053757-58d3-46cf-a6d3-c7a22ac38d48\">\n",
              "  <button class=\"colab-df-quickchart\" onclick=\"quickchart('df-1c053757-58d3-46cf-a6d3-c7a22ac38d48')\"\n",
              "            title=\"Suggest charts\"\n",
              "            style=\"display:none;\">\n",
              "\n",
              "<svg xmlns=\"http://www.w3.org/2000/svg\" height=\"24px\"viewBox=\"0 0 24 24\"\n",
              "     width=\"24px\">\n",
              "    <g>\n",
              "        <path d=\"M19 3H5c-1.1 0-2 .9-2 2v14c0 1.1.9 2 2 2h14c1.1 0 2-.9 2-2V5c0-1.1-.9-2-2-2zM9 17H7v-7h2v7zm4 0h-2V7h2v10zm4 0h-2v-4h2v4z\"/>\n",
              "    </g>\n",
              "</svg>\n",
              "  </button>\n",
              "\n",
              "<style>\n",
              "  .colab-df-quickchart {\n",
              "      --bg-color: #E8F0FE;\n",
              "      --fill-color: #1967D2;\n",
              "      --hover-bg-color: #E2EBFA;\n",
              "      --hover-fill-color: #174EA6;\n",
              "      --disabled-fill-color: #AAA;\n",
              "      --disabled-bg-color: #DDD;\n",
              "  }\n",
              "\n",
              "  [theme=dark] .colab-df-quickchart {\n",
              "      --bg-color: #3B4455;\n",
              "      --fill-color: #D2E3FC;\n",
              "      --hover-bg-color: #434B5C;\n",
              "      --hover-fill-color: #FFFFFF;\n",
              "      --disabled-bg-color: #3B4455;\n",
              "      --disabled-fill-color: #666;\n",
              "  }\n",
              "\n",
              "  .colab-df-quickchart {\n",
              "    background-color: var(--bg-color);\n",
              "    border: none;\n",
              "    border-radius: 50%;\n",
              "    cursor: pointer;\n",
              "    display: none;\n",
              "    fill: var(--fill-color);\n",
              "    height: 32px;\n",
              "    padding: 0;\n",
              "    width: 32px;\n",
              "  }\n",
              "\n",
              "  .colab-df-quickchart:hover {\n",
              "    background-color: var(--hover-bg-color);\n",
              "    box-shadow: 0 1px 2px rgba(60, 64, 67, 0.3), 0 1px 3px 1px rgba(60, 64, 67, 0.15);\n",
              "    fill: var(--button-hover-fill-color);\n",
              "  }\n",
              "\n",
              "  .colab-df-quickchart-complete:disabled,\n",
              "  .colab-df-quickchart-complete:disabled:hover {\n",
              "    background-color: var(--disabled-bg-color);\n",
              "    fill: var(--disabled-fill-color);\n",
              "    box-shadow: none;\n",
              "  }\n",
              "\n",
              "  .colab-df-spinner {\n",
              "    border: 2px solid var(--fill-color);\n",
              "    border-color: transparent;\n",
              "    border-bottom-color: var(--fill-color);\n",
              "    animation:\n",
              "      spin 1s steps(1) infinite;\n",
              "  }\n",
              "\n",
              "  @keyframes spin {\n",
              "    0% {\n",
              "      border-color: transparent;\n",
              "      border-bottom-color: var(--fill-color);\n",
              "      border-left-color: var(--fill-color);\n",
              "    }\n",
              "    20% {\n",
              "      border-color: transparent;\n",
              "      border-left-color: var(--fill-color);\n",
              "      border-top-color: var(--fill-color);\n",
              "    }\n",
              "    30% {\n",
              "      border-color: transparent;\n",
              "      border-left-color: var(--fill-color);\n",
              "      border-top-color: var(--fill-color);\n",
              "      border-right-color: var(--fill-color);\n",
              "    }\n",
              "    40% {\n",
              "      border-color: transparent;\n",
              "      border-right-color: var(--fill-color);\n",
              "      border-top-color: var(--fill-color);\n",
              "    }\n",
              "    60% {\n",
              "      border-color: transparent;\n",
              "      border-right-color: var(--fill-color);\n",
              "    }\n",
              "    80% {\n",
              "      border-color: transparent;\n",
              "      border-right-color: var(--fill-color);\n",
              "      border-bottom-color: var(--fill-color);\n",
              "    }\n",
              "    90% {\n",
              "      border-color: transparent;\n",
              "      border-bottom-color: var(--fill-color);\n",
              "    }\n",
              "  }\n",
              "</style>\n",
              "\n",
              "  <script>\n",
              "    async function quickchart(key) {\n",
              "      const quickchartButtonEl =\n",
              "        document.querySelector('#' + key + ' button');\n",
              "      quickchartButtonEl.disabled = true;  // To prevent multiple clicks.\n",
              "      quickchartButtonEl.classList.add('colab-df-spinner');\n",
              "      try {\n",
              "        const charts = await google.colab.kernel.invokeFunction(\n",
              "            'suggestCharts', [key], {});\n",
              "      } catch (error) {\n",
              "        console.error('Error during call to suggestCharts:', error);\n",
              "      }\n",
              "      quickchartButtonEl.classList.remove('colab-df-spinner');\n",
              "      quickchartButtonEl.classList.add('colab-df-quickchart-complete');\n",
              "    }\n",
              "    (() => {\n",
              "      let quickchartButtonEl =\n",
              "        document.querySelector('#df-1c053757-58d3-46cf-a6d3-c7a22ac38d48 button');\n",
              "      quickchartButtonEl.style.display =\n",
              "        google.colab.kernel.accessAllowed ? 'block' : 'none';\n",
              "    })();\n",
              "  </script>\n",
              "</div>\n",
              "\n",
              "    </div>\n",
              "  </div>\n"
            ],
            "application/vnd.google.colaboratory.intrinsic+json": {
              "type": "dataframe",
              "variable_name": "dataset",
              "summary": "{\n  \"name\": \"dataset\",\n  \"rows\": 150,\n  \"fields\": [\n    {\n      \"column\": \"sepal-length\",\n      \"properties\": {\n        \"dtype\": \"number\",\n        \"std\": 0.8280661279778629,\n        \"min\": 4.3,\n        \"max\": 7.9,\n        \"num_unique_values\": 35,\n        \"samples\": [\n          6.2,\n          4.5,\n          5.6\n        ],\n        \"semantic_type\": \"\",\n        \"description\": \"\"\n      }\n    },\n    {\n      \"column\": \"sepal-width\",\n      \"properties\": {\n        \"dtype\": \"number\",\n        \"std\": 0.4335943113621737,\n        \"min\": 2.0,\n        \"max\": 4.4,\n        \"num_unique_values\": 23,\n        \"samples\": [\n          2.3,\n          4.0,\n          3.5\n        ],\n        \"semantic_type\": \"\",\n        \"description\": \"\"\n      }\n    },\n    {\n      \"column\": \"petal-length\",\n      \"properties\": {\n        \"dtype\": \"number\",\n        \"std\": 1.7644204199522617,\n        \"min\": 1.0,\n        \"max\": 6.9,\n        \"num_unique_values\": 43,\n        \"samples\": [\n          6.7,\n          3.8,\n          3.7\n        ],\n        \"semantic_type\": \"\",\n        \"description\": \"\"\n      }\n    },\n    {\n      \"column\": \"petal-width\",\n      \"properties\": {\n        \"dtype\": \"number\",\n        \"std\": 0.7631607417008414,\n        \"min\": 0.1,\n        \"max\": 2.5,\n        \"num_unique_values\": 22,\n        \"samples\": [\n          0.2,\n          1.2,\n          1.3\n        ],\n        \"semantic_type\": \"\",\n        \"description\": \"\"\n      }\n    },\n    {\n      \"column\": \"class\",\n      \"properties\": {\n        \"dtype\": \"category\",\n        \"num_unique_values\": 3,\n        \"samples\": [\n          \"Iris-setosa\",\n          \"Iris-versicolor\",\n          \"Iris-virginica\"\n        ],\n        \"semantic_type\": \"\",\n        \"description\": \"\"\n      }\n    }\n  ]\n}"
            }
          },
          "metadata": {},
          "execution_count": 2
        }
      ]
    },
    {
      "cell_type": "markdown",
      "source": [
        "Visualize the set of values of the \"class\" column:"
      ],
      "metadata": {
        "id": "2nA8bLvCxsNY"
      }
    },
    {
      "cell_type": "code",
      "metadata": {
        "id": "rF8HqWp7G1U6",
        "colab": {
          "base_uri": "https://localhost:8080/"
        },
        "outputId": "945b07f5-5bdf-4f81-b5aa-b085c50b6ee6"
      },
      "source": [
        "dataset['class'].unique()"
      ],
      "execution_count": null,
      "outputs": [
        {
          "output_type": "execute_result",
          "data": {
            "text/plain": [
              "array(['Iris-setosa', 'Iris-versicolor', 'Iris-virginica'], dtype=object)"
            ]
          },
          "metadata": {},
          "execution_count": 3
        }
      ]
    },
    {
      "cell_type": "markdown",
      "metadata": {
        "id": "Ris4-X3Ff_xn"
      },
      "source": [
        "We do not have any metric over the space of the classes, i.e., it is not possible to order them. In this case one **could not** consider regression techniques.\n",
        "\n",
        "Let us start with discriminating between Setosa and non-Setosa flowers according to the sepal length and width."
      ]
    },
    {
      "cell_type": "markdown",
      "source": [
        "### Data preprocessing"
      ],
      "metadata": {
        "id": "VtdGSJqEQ2gb"
      }
    },
    {
      "cell_type": "code",
      "metadata": {
        "id": "ki2ij-POGjWZ"
      },
      "source": [
        "from scipy.stats import zscore\n",
        "from sklearn.utils import shuffle\n",
        "\n",
        "X = zscore(dataset[['sepal-length', 'sepal-width']].values) #Normalize the input\n",
        "t = (dataset['class'].values == 'Iris-setosa') #Target is True (setosa) or False (non-setosa)\n",
        "X, t = shuffle(X, t, random_state=0) # this time we have to do it! (we will use sequential algorithms)"
      ],
      "execution_count": null,
      "outputs": []
    },
    {
      "cell_type": "code",
      "metadata": {
        "id": "83k2e-uQJpqt",
        "colab": {
          "base_uri": "https://localhost:8080/",
          "height": 619
        },
        "outputId": "cbaec307-6b5c-4427-90c2-17613430c101"
      },
      "source": [
        "plt.figure(figsize=(12,7))\n",
        "setosa = X[t]\n",
        "not_setosa = X[~t]\n",
        "plt.scatter(setosa[:, 0], setosa[:, 1], label='setosa')\n",
        "plt.scatter(not_setosa[:, 0], not_setosa[:, 1], label='not setosa', marker='x')\n",
        "\n",
        "plt.xlabel('x1')\n",
        "plt.ylabel('x2')\n",
        "plt.grid()\n",
        "plt.legend()\n",
        "plt.show()"
      ],
      "execution_count": null,
      "outputs": [
        {
          "output_type": "display_data",
          "data": {
            "text/plain": [
              "<Figure size 1200x700 with 1 Axes>"
            ],
            "image/png": "[encoded data removed]"
          },
          "metadata": {}
        }
      ]
    },
    {
      "cell_type": "markdown",
      "source": [
        "## The Dummy Classifier\n",
        "A dummy classifier is a classifier that ignores the input variables, for instance by assigning to all samples the most frequent label in the dataset.\n",
        "It provides an initial baselines: if a more complex classification technique performs worse than the dummy classifier, it is useless."
      ],
      "metadata": {
        "id": "PmvvLkAGSCsR"
      }
    },
    {
      "cell_type": "code",
      "source": [
        "from sklearn.dummy import DummyClassifier\n",
        "\n",
        "dummy = DummyClassifier(strategy=\"most_frequent\")\n",
        "dummy.fit(X, t)\n",
        "most_frequent = dummy.predict(X)"
      ],
      "metadata": {
        "id": "VRGlNbFaSPcy"
      },
      "execution_count": null,
      "outputs": []
    },
    {
      "cell_type": "markdown",
      "metadata": {
        "id": "nRAtdohEMcpH"
      },
      "source": [
        "### Evaluating Classification\n",
        "\n",
        "To evaluate the performances of a classification method, we need to compute the *confusion matrix* which tells us the number of points which have been correctly classified and those which have been misclassified.\n",
        "\n",
        " <table style=\"width:100%\">\n",
        "  <tr>\n",
        "    <th>\n",
        "    <center> <img src='https://upload.wikimedia.org/wikipedia/commons/2/26/Precisionrecall.svg' width=300 /> </center>\n",
        "    </th>\n",
        "    <th>\\begin{array}{|l|l|l|}\n",
        "\t\\hline\n",
        "\t&\\text{Actual Class: 1}\t& \\text{Actual Class: 0}\\\\\n",
        "\t\\hline\n",
        "\t\\text{Predicted Class: 1}\t& tp\t& fp\\\\\n",
        "\t\\hline\n",
        "\t\\text{Predicted Class: 0}\t& fn\t& tn\\\\\n",
        "\t\\hline\n",
        "\\end{array}\n",
        "</th>\n",
        "  </tr>\n",
        "\n",
        "</table>\n",
        "\n",
        "\n",
        "\n",
        "\n",
        "Based on this matrix we can evaluate:\n",
        "- Accuracy: $Acc = \\frac{tp + tn}{N}$ fraction of the samples correctly classified in the dataset;\n",
        "- Precision $Pre = \\frac{tp}{tp + fp}$ fraction of samples correctly classified in the positive class among the ones classified in the positive class;\n",
        "- Recall: $Rec = \\frac{tp}{tp + fn}$ fraction of samples correctly classified in the positive class among the ones belonging to the positive class;\n",
        "- F1 score: $F1 = \\frac{2 \\cdot Pre \\cdot Rec}{Pre + Rec}$ harmonic mean of the precision and recall;\n",
        "\n",
        "where $tn$ is the number of true negatives, $fp$ is the number of false positives, $fn$ are the false negatives and $tn$ are the true negatives.\n",
        "Equivalently, we can look at the meaning of Precision and Recall by looking at the figure above.\n",
        "\n",
        "Remember that:\n",
        "- The higher these figures of merits the better the algorithm is performing.\n",
        "- These performance measures are **not** symmetric, but depends on the class we selected as positive.\n",
        "- Depending on the **application** one might switch the classes to have measures which better evaluate the predictive power of the classifier."
      ]
    },
    {
      "cell_type": "code",
      "metadata": {
        "id": "zWrRVXzJMt8T"
      },
      "source": [
        "from sklearn.metrics import confusion_matrix, accuracy_score, precision_score, recall_score, f1_score"
      ],
      "execution_count": null,
      "outputs": []
    },
    {
      "cell_type": "code",
      "metadata": {
        "id": "YVhxqq6ITZ7X",
        "colab": {
          "base_uri": "https://localhost:8080/"
        },
        "outputId": "94a8f12e-be8a-49f1-c823-f444645b1876"
      },
      "source": [
        "confusion_matrix(t, most_frequent)"
      ],
      "execution_count": null,
      "outputs": [
        {
          "output_type": "execute_result",
          "data": {
            "text/plain": [
              "array([[100,   0],\n",
              "       [ 50,   0]])"
            ]
          },
          "metadata": {},
          "execution_count": 23
        }
      ]
    },
    {
      "cell_type": "code",
      "metadata": {
        "id": "lKSBk01rTZ7Z",
        "colab": {
          "base_uri": "https://localhost:8080/"
        },
        "outputId": "5f50f3ca-d344-41a2-8527-fae9a854a441"
      },
      "source": [
        "accuracy_score(t, most_frequent)"
      ],
      "execution_count": null,
      "outputs": [
        {
          "output_type": "execute_result",
          "data": {
            "text/plain": [
              "0.6666666666666666"
            ]
          },
          "metadata": {},
          "execution_count": 24
        }
      ]
    },
    {
      "cell_type": "code",
      "metadata": {
        "id": "557fxR9WTZ7b",
        "colab": {
          "base_uri": "https://localhost:8080/"
        },
        "outputId": "fe42e898-abb1-4c36-884b-e6e51baf1b72"
      },
      "source": [
        "precision_score(t, most_frequent)"
      ],
      "execution_count": null,
      "outputs": [
        {
          "output_type": "stream",
          "name": "stderr",
          "text": [
            "/usr/local/lib/python3.11/dist-packages/sklearn/metrics/_classification.py:1565: UndefinedMetricWarning: Precision is ill-defined and being set to 0.0 due to no predicted samples. Use `zero_division` parameter to control this behavior.\n",
            "  _warn_prf(average, modifier, f\"{metric.capitalize()} is\", len(result))\n"
          ]
        },
        {
          "output_type": "execute_result",
          "data": {
            "text/plain": [
              "0.0"
            ]
          },
          "metadata": {},
          "execution_count": 25
        }
      ]
    },
    {
      "cell_type": "code",
      "metadata": {
        "id": "lhQwNZSvTZ7e",
        "colab": {
          "base_uri": "https://localhost:8080/"
        },
        "outputId": "143bb95a-e49c-47da-df84-c7bd5645b53d"
      },
      "source": [
        "recall_score(t, most_frequent)"
      ],
      "execution_count": null,
      "outputs": [
        {
          "output_type": "execute_result",
          "data": {
            "text/plain": [
              "0.0"
            ]
          },
          "metadata": {},
          "execution_count": 26
        }
      ]
    },
    {
      "cell_type": "code",
      "metadata": {
        "id": "XN84XfMCTZ7g",
        "colab": {
          "base_uri": "https://localhost:8080/"
        },
        "outputId": "60a6a58e-b7d0-4363-b07e-0552b5421cb5"
      },
      "source": [
        "f1_score(t, most_frequent)"
      ],
      "execution_count": null,
      "outputs": [
        {
          "output_type": "execute_result",
          "data": {
            "text/plain": [
              "0.0"
            ]
          },
          "metadata": {},
          "execution_count": 27
        }
      ]
    },
    {
      "cell_type": "markdown",
      "metadata": {
        "id": "BEh5RxiOQsnv"
      },
      "source": [
        "## Discriminant Function Approach: the Perceptron\n",
        "\n",
        "Let's perform a classification with a perceptron classifier:\n",
        "- Hypothesis space: $y(\\mathbf{x}_n) = sgn(\\mathbf{w}^T \\mathbf{x}_n) = sgn(w_0 + x_{n1} w_1 + x_{n2} w_2)$;\n",
        "- Loss measure: Distance of misclassified points from the separating surface $L_P(\\mathbf{w}) = -\\sum_{n \\in \\mathcal{M}} \\mathbf{w}^T \\mathbf{x}_n C_n$;\n",
        "- Optimization method: Online Gradient Descent;\n",
        "\n",
        "where $sgn(\\cdot)$ is the sign function."
      ]
    },
    {
      "cell_type": "code",
      "metadata": {
        "id": "NThT3ISOLiE9",
        "colab": {
          "base_uri": "https://localhost:8080/",
          "height": 80
        },
        "outputId": "b148b0c8-cac3-40be-c4c9-e7c277fc5818"
      },
      "source": [
        "from sklearn.linear_model import Perceptron\n",
        "perc_classifier = Perceptron(shuffle=False, random_state=0)\n",
        "perc_classifier.fit(X, t)"
      ],
      "execution_count": null,
      "outputs": [
        {
          "output_type": "execute_result",
          "data": {
            "text/plain": [
              "Perceptron(shuffle=False)"
            ],
            "text/html": [
              "<style>#sk-container-id-1 {\n",
              "  /* Definition of color scheme common for light and dark mode */\n",
              "  --sklearn-color-text: #000;\n",
              "  --sklearn-color-text-muted: #666;\n",
              "  --sklearn-color-line: gray;\n",
              "  /* Definition of color scheme for unfitted estimators */\n",
              "  --sklearn-color-unfitted-level-0: #fff5e6;\n",
              "  --sklearn-color-unfitted-level-1: #f6e4d2;\n",
              "  --sklearn-color-unfitted-level-2: #ffe0b3;\n",
              "  --sklearn-color-unfitted-level-3: chocolate;\n",
              "  /* Definition of color scheme for fitted estimators */\n",
              "  --sklearn-color-fitted-level-0: #f0f8ff;\n",
              "  --sklearn-color-fitted-level-1: #d4ebff;\n",
              "  --sklearn-color-fitted-level-2: #b3dbfd;\n",
              "  --sklearn-color-fitted-level-3: cornflowerblue;\n",
              "\n",
              "  /* Specific color for light theme */\n",
              "  --sklearn-color-text-on-default-background: var(--sg-text-color, var(--theme-code-foreground, var(--jp-content-font-color1, black)));\n",
              "  --sklearn-color-background: var(--sg-background-color, var(--theme-background, var(--jp-layout-color0, white)));\n",
              "  --sklearn-color-border-box: var(--sg-text-color, var(--theme-code-foreground, var(--jp-content-font-color1, black)));\n",
              "  --sklearn-color-icon: #696969;\n",
              "\n",
              "  @media (prefers-color-scheme: dark) {\n",
              "    /* Redefinition of color scheme for dark theme */\n",
              "    --sklearn-color-text-on-default-background: var(--sg-text-color, var(--theme-code-foreground, var(--jp-content-font-color1, white)));\n",
              "    --sklearn-color-background: var(--sg-background-color, var(--theme-background, var(--jp-layout-color0, #111)));\n",
              "    --sklearn-color-border-box: var(--sg-text-color, var(--theme-code-foreground, var(--jp-content-font-color1, white)));\n",
              "    --sklearn-color-icon: #878787;\n",
              "  }\n",
              "}\n",
              "\n",
              "#sk-container-id-1 {\n",
              "  color: var(--sklearn-color-text);\n",
              "}\n",
              "\n",
              "#sk-container-id-1 pre {\n",
              "  padding: 0;\n",
              "}\n",
              "\n",
              "#sk-container-id-1 input.sk-hidden--visually {\n",
              "  border: 0;\n",
              "  clip: rect(1px 1px 1px 1px);\n",
              "  clip: rect(1px, 1px, 1px, 1px);\n",
              "  height: 1px;\n",
              "  margin: -1px;\n",
              "  overflow: hidden;\n",
              "  padding: 0;\n",
              "  position: absolute;\n",
              "  width: 1px;\n",
              "}\n",
              "\n",
              "#sk-container-id-1 div.sk-dashed-wrapped {\n",
              "  border: 1px dashed var(--sklearn-color-line);\n",
              "  margin: 0 0.4em 0.5em 0.4em;\n",
              "  box-sizing: border-box;\n",
              "  padding-bottom: 0.4em;\n",
              "  background-color: var(--sklearn-color-background);\n",
              "}\n",
              "\n",
              "#sk-container-id-1 div.sk-container {\n",
              "  /* jupyter's `normalize.less` sets `[hidden] { display: none; }`\n",
              "     but bootstrap.min.css set `[hidden] { display: none !important; }`\n",
              "     so we also need the `!important` here to be able to override the\n",
              "     default hidden behavior on the sphinx rendered scikit-learn.org.\n",
              "     See: https://github.com/scikit-learn/scikit-learn/issues/21755 */\n",
              "  display: inline-block !important;\n",
              "  position: relative;\n",
              "}\n",
              "\n",
              "#sk-container-id-1 div.sk-text-repr-fallback {\n",
              "  display: none;\n",
              "}\n",
              "\n",
              "div.sk-parallel-item,\n",
              "div.sk-serial,\n",
              "div.sk-item {\n",
              "  /* draw centered vertical line to link estimators */\n",
              "  background-image: linear-gradient(var(--sklearn-color-text-on-default-background), var(--sklearn-color-text-on-default-background));\n",
              "  background-size: 2px 100%;\n",
              "  background-repeat: no-repeat;\n",
              "  background-position: center center;\n",
              "}\n",
              "\n",
              "/* Parallel-specific style estimator block */\n",
              "\n",
              "#sk-container-id-1 div.sk-parallel-item::after {\n",
              "  content: \"\";\n",
              "  width: 100%;\n",
              "  border-bottom: 2px solid var(--sklearn-color-text-on-default-background);\n",
              "  flex-grow: 1;\n",
              "}\n",
              "\n",
              "#sk-container-id-1 div.sk-parallel {\n",
              "  display: flex;\n",
              "  align-items: stretch;\n",
              "  justify-content: center;\n",
              "  background-color: var(--sklearn-color-background);\n",
              "  position: relative;\n",
              "}\n",
              "\n",
              "#sk-container-id-1 div.sk-parallel-item {\n",
              "  display: flex;\n",
              "  flex-direction: column;\n",
              "}\n",
              "\n",
              "#sk-container-id-1 div.sk-parallel-item:first-child::after {\n",
              "  align-self: flex-end;\n",
              "  width: 50%;\n",
              "}\n",
              "\n",
              "#sk-container-id-1 div.sk-parallel-item:last-child::after {\n",
              "  align-self: flex-start;\n",
              "  width: 50%;\n",
              "}\n",
              "\n",
              "#sk-container-id-1 div.sk-parallel-item:only-child::after {\n",
              "  width: 0;\n",
              "}\n",
              "\n",
              "/* Serial-specific style estimator block */\n",
              "\n",
              "#sk-container-id-1 div.sk-serial {\n",
              "  display: flex;\n",
              "  flex-direction: column;\n",
              "  align-items: center;\n",
              "  background-color: var(--sklearn-color-background);\n",
              "  padding-right: 1em;\n",
              "  padding-left: 1em;\n",
              "}\n",
              "\n",
              "\n",
              "/* Toggleable style: style used for estimator/Pipeline/ColumnTransformer box that is\n",
              "clickable and can be expanded/collapsed.\n",
              "- Pipeline and ColumnTransformer use this feature and define the default style\n",
              "- Estimators will overwrite some part of the style using the `sk-estimator` class\n",
              "*/\n",
              "\n",
              "/* Pipeline and ColumnTransformer style (default) */\n",
              "\n",
              "#sk-container-id-1 div.sk-toggleable {\n",
              "  /* Default theme specific background. It is overwritten whether we have a\n",
              "  specific estimator or a Pipeline/ColumnTransformer */\n",
              "  background-color: var(--sklearn-color-background);\n",
              "}\n",
              "\n",
              "/* Toggleable label */\n",
              "#sk-container-id-1 label.sk-toggleable__label {\n",
              "  cursor: pointer;\n",
              "  display: flex;\n",
              "  width: 100%;\n",
              "  margin-bottom: 0;\n",
              "  padding: 0.5em;\n",
              "  box-sizing: border-box;\n",
              "  text-align: center;\n",
              "  align-items: start;\n",
              "  justify-content: space-between;\n",
              "  gap: 0.5em;\n",
              "}\n",
              "\n",
              "#sk-container-id-1 label.sk-toggleable__label .caption {\n",
              "  font-size: 0.6rem;\n",
              "  font-weight: lighter;\n",
              "  color: var(--sklearn-color-text-muted);\n",
              "}\n",
              "\n",
              "#sk-container-id-1 label.sk-toggleable__label-arrow:before {\n",
              "  /* Arrow on the left of the label */\n",
              "  content: \"▸\";\n",
              "  float: left;\n",
              "  margin-right: 0.25em;\n",
              "  color: var(--sklearn-color-icon);\n",
              "}\n",
              "\n",
              "#sk-container-id-1 label.sk-toggleable__label-arrow:hover:before {\n",
              "  color: var(--sklearn-color-text);\n",
              "}\n",
              "\n",
              "/* Toggleable content - dropdown */\n",
              "\n",
              "#sk-container-id-1 div.sk-toggleable__content {\n",
              "  max-height: 0;\n",
              "  max-width: 0;\n",
              "  overflow: hidden;\n",
              "  text-align: left;\n",
              "  /* unfitted */\n",
              "  background-color: var(--sklearn-color-unfitted-level-0);\n",
              "}\n",
              "\n",
              "#sk-container-id-1 div.sk-toggleable__content.fitted {\n",
              "  /* fitted */\n",
              "  background-color: var(--sklearn-color-fitted-level-0);\n",
              "}\n",
              "\n",
              "#sk-container-id-1 div.sk-toggleable__content pre {\n",
              "  margin: 0.2em;\n",
              "  border-radius: 0.25em;\n",
              "  color: var(--sklearn-color-text);\n",
              "  /* unfitted */\n",
              "  background-color: var(--sklearn-color-unfitted-level-0);\n",
              "}\n",
              "\n",
              "#sk-container-id-1 div.sk-toggleable__content.fitted pre {\n",
              "  /* unfitted */\n",
              "  background-color: var(--sklearn-color-fitted-level-0);\n",
              "}\n",
              "\n",
              "#sk-container-id-1 input.sk-toggleable__control:checked~div.sk-toggleable__content {\n",
              "  /* Expand drop-down */\n",
              "  max-height: 200px;\n",
              "  max-width: 100%;\n",
              "  overflow: auto;\n",
              "}\n",
              "\n",
              "#sk-container-id-1 input.sk-toggleable__control:checked~label.sk-toggleable__label-arrow:before {\n",
              "  content: \"▾\";\n",
              "}\n",
              "\n",
              "/* Pipeline/ColumnTransformer-specific style */\n",
              "\n",
              "#sk-container-id-1 div.sk-label input.sk-toggleable__control:checked~label.sk-toggleable__label {\n",
              "  color: var(--sklearn-color-text);\n",
              "  background-color: var(--sklearn-color-unfitted-level-2);\n",
              "}\n",
              "\n",
              "#sk-container-id-1 div.sk-label.fitted input.sk-toggleable__control:checked~label.sk-toggleable__label {\n",
              "  background-color: var(--sklearn-color-fitted-level-2);\n",
              "}\n",
              "\n",
              "/* Estimator-specific style */\n",
              "\n",
              "/* Colorize estimator box */\n",
              "#sk-container-id-1 div.sk-estimator input.sk-toggleable__control:checked~label.sk-toggleable__label {\n",
              "  /* unfitted */\n",
              "  background-color: var(--sklearn-color-unfitted-level-2);\n",
              "}\n",
              "\n",
              "#sk-container-id-1 div.sk-estimator.fitted input.sk-toggleable__control:checked~label.sk-toggleable__label {\n",
              "  /* fitted */\n",
              "  background-color: var(--sklearn-color-fitted-level-2);\n",
              "}\n",
              "\n",
              "#sk-container-id-1 div.sk-label label.sk-toggleable__label,\n",
              "#sk-container-id-1 div.sk-label label {\n",
              "  /* The background is the default theme color */\n",
              "  color: var(--sklearn-color-text-on-default-background);\n",
              "}\n",
              "\n",
              "/* On hover, darken the color of the background */\n",
              "#sk-container-id-1 div.sk-label:hover label.sk-toggleable__label {\n",
              "  color: var(--sklearn-color-text);\n",
              "  background-color: var(--sklearn-color-unfitted-level-2);\n",
              "}\n",
              "\n",
              "/* Label box, darken color on hover, fitted */\n",
              "#sk-container-id-1 div.sk-label.fitted:hover label.sk-toggleable__label.fitted {\n",
              "  color: var(--sklearn-color-text);\n",
              "  background-color: var(--sklearn-color-fitted-level-2);\n",
              "}\n",
              "\n",
              "/* Estimator label */\n",
              "\n",
              "#sk-container-id-1 div.sk-label label {\n",
              "  font-family: monospace;\n",
              "  font-weight: bold;\n",
              "  display: inline-block;\n",
              "  line-height: 1.2em;\n",
              "}\n",
              "\n",
              "#sk-container-id-1 div.sk-label-container {\n",
              "  text-align: center;\n",
              "}\n",
              "\n",
              "/* Estimator-specific */\n",
              "#sk-container-id-1 div.sk-estimator {\n",
              "  font-family: monospace;\n",
              "  border: 1px dotted var(--sklearn-color-border-box);\n",
              "  border-radius: 0.25em;\n",
              "  box-sizing: border-box;\n",
              "  margin-bottom: 0.5em;\n",
              "  /* unfitted */\n",
              "  background-color: var(--sklearn-color-unfitted-level-0);\n",
              "}\n",
              "\n",
              "#sk-container-id-1 div.sk-estimator.fitted {\n",
              "  /* fitted */\n",
              "  background-color: var(--sklearn-color-fitted-level-0);\n",
              "}\n",
              "\n",
              "/* on hover */\n",
              "#sk-container-id-1 div.sk-estimator:hover {\n",
              "  /* unfitted */\n",
              "  background-color: var(--sklearn-color-unfitted-level-2);\n",
              "}\n",
              "\n",
              "#sk-container-id-1 div.sk-estimator.fitted:hover {\n",
              "  /* fitted */\n",
              "  background-color: var(--sklearn-color-fitted-level-2);\n",
              "}\n",
              "\n",
              "/* Specification for estimator info (e.g. \"i\" and \"?\") */\n",
              "\n",
              "/* Common style for \"i\" and \"?\" */\n",
              "\n",
              ".sk-estimator-doc-link,\n",
              "a:link.sk-estimator-doc-link,\n",
              "a:visited.sk-estimator-doc-link {\n",
              "  float: right;\n",
              "  font-size: smaller;\n",
              "  line-height: 1em;\n",
              "  font-family: monospace;\n",
              "  background-color: var(--sklearn-color-background);\n",
              "  border-radius: 1em;\n",
              "  height: 1em;\n",
              "  width: 1em;\n",
              "  text-decoration: none !important;\n",
              "  margin-left: 0.5em;\n",
              "  text-align: center;\n",
              "  /* unfitted */\n",
              "  border: var(--sklearn-color-unfitted-level-1) 1pt solid;\n",
              "  color: var(--sklearn-color-unfitted-level-1);\n",
              "}\n",
              "\n",
              ".sk-estimator-doc-link.fitted,\n",
              "a:link.sk-estimator-doc-link.fitted,\n",
              "a:visited.sk-estimator-doc-link.fitted {\n",
              "  /* fitted */\n",
              "  border: var(--sklearn-color-fitted-level-1) 1pt solid;\n",
              "  color: var(--sklearn-color-fitted-level-1);\n",
              "}\n",
              "\n",
              "/* On hover */\n",
              "div.sk-estimator:hover .sk-estimator-doc-link:hover,\n",
              ".sk-estimator-doc-link:hover,\n",
              "div.sk-label-container:hover .sk-estimator-doc-link:hover,\n",
              ".sk-estimator-doc-link:hover {\n",
              "  /* unfitted */\n",
              "  background-color: var(--sklearn-color-unfitted-level-3);\n",
              "  color: var(--sklearn-color-background);\n",
              "  text-decoration: none;\n",
              "}\n",
              "\n",
              "div.sk-estimator.fitted:hover .sk-estimator-doc-link.fitted:hover,\n",
              ".sk-estimator-doc-link.fitted:hover,\n",
              "div.sk-label-container:hover .sk-estimator-doc-link.fitted:hover,\n",
              ".sk-estimator-doc-link.fitted:hover {\n",
              "  /* fitted */\n",
              "  background-color: var(--sklearn-color-fitted-level-3);\n",
              "  color: var(--sklearn-color-background);\n",
              "  text-decoration: none;\n",
              "}\n",
              "\n",
              "/* Span, style for the box shown on hovering the info icon */\n",
              ".sk-estimator-doc-link span {\n",
              "  display: none;\n",
              "  z-index: 9999;\n",
              "  position: relative;\n",
              "  font-weight: normal;\n",
              "  right: .2ex;\n",
              "  padding: .5ex;\n",
              "  margin: .5ex;\n",
              "  width: min-content;\n",
              "  min-width: 20ex;\n",
              "  max-width: 50ex;\n",
              "  color: var(--sklearn-color-text);\n",
              "  box-shadow: 2pt 2pt 4pt #999;\n",
              "  /* unfitted */\n",
              "  background: var(--sklearn-color-unfitted-level-0);\n",
              "  border: .5pt solid var(--sklearn-color-unfitted-level-3);\n",
              "}\n",
              "\n",
              ".sk-estimator-doc-link.fitted span {\n",
              "  /* fitted */\n",
              "  background: var(--sklearn-color-fitted-level-0);\n",
              "  border: var(--sklearn-color-fitted-level-3);\n",
              "}\n",
              "\n",
              ".sk-estimator-doc-link:hover span {\n",
              "  display: block;\n",
              "}\n",
              "\n",
              "/* \"?\"-specific style due to the `<a>` HTML tag */\n",
              "\n",
              "#sk-container-id-1 a.estimator_doc_link {\n",
              "  float: right;\n",
              "  font-size: 1rem;\n",
              "  line-height: 1em;\n",
              "  font-family: monospace;\n",
              "  background-color: var(--sklearn-color-background);\n",
              "  border-radius: 1rem;\n",
              "  height: 1rem;\n",
              "  width: 1rem;\n",
              "  text-decoration: none;\n",
              "  /* unfitted */\n",
              "  color: var(--sklearn-color-unfitted-level-1);\n",
              "  border: var(--sklearn-color-unfitted-level-1) 1pt solid;\n",
              "}\n",
              "\n",
              "#sk-container-id-1 a.estimator_doc_link.fitted {\n",
              "  /* fitted */\n",
              "  border: var(--sklearn-color-fitted-level-1) 1pt solid;\n",
              "  color: var(--sklearn-color-fitted-level-1);\n",
              "}\n",
              "\n",
              "/* On hover */\n",
              "#sk-container-id-1 a.estimator_doc_link:hover {\n",
              "  /* unfitted */\n",
              "  background-color: var(--sklearn-color-unfitted-level-3);\n",
              "  color: var(--sklearn-color-background);\n",
              "  text-decoration: none;\n",
              "}\n",
              "\n",
              "#sk-container-id-1 a.estimator_doc_link.fitted:hover {\n",
              "  /* fitted */\n",
              "  background-color: var(--sklearn-color-fitted-level-3);\n",
              "}\n",
              "</style><div id=\"sk-container-id-1\" class=\"sk-top-container\"><div class=\"sk-text-repr-fallback\"><pre>Perceptron(shuffle=False)</pre><b>In a Jupyter environment, please rerun this cell to show the HTML representation or trust the notebook. <br />On GitHub, the HTML representation is unable to render, please try loading this page with nbviewer.org.</b></div><div class=\"sk-container\" hidden><div class=\"sk-item\"><div class=\"sk-estimator fitted sk-toggleable\"><input class=\"sk-toggleable__control sk-hidden--visually\" id=\"sk-estimator-id-1\" type=\"checkbox\" checked><label for=\"sk-estimator-id-1\" class=\"sk-toggleable__label fitted sk-toggleable__label-arrow\"><div><div>Perceptron</div></div><div><a class=\"sk-estimator-doc-link fitted\" rel=\"noreferrer\" target=\"_blank\" href=\"https://scikit-learn.org/1.6/modules/generated/sklearn.linear_model.Perceptron.html\">?<span>Documentation for Perceptron</span></a><span class=\"sk-estimator-doc-link fitted\">i<span>Fitted</span></span></div></label><div class=\"sk-toggleable__content fitted\"><pre>Perceptron(shuffle=False)</pre></div> </div></div></div></div>"
            ]
          },
          "metadata": {},
          "execution_count": 28
        }
      ]
    },
    {
      "cell_type": "code",
      "source": [
        "perc_classifier.coef_"
      ],
      "metadata": {
        "id": "V64SgUTJ0rGA",
        "colab": {
          "base_uri": "https://localhost:8080/"
        },
        "outputId": "d8693294-81ff-4239-ed76-1b51f608dba0"
      },
      "execution_count": null,
      "outputs": [
        {
          "output_type": "execute_result",
          "data": {
            "text/plain": [
              "array([[-1.52267624,  0.8191665 ]])"
            ]
          },
          "metadata": {},
          "execution_count": 29
        }
      ]
    },
    {
      "cell_type": "code",
      "source": [
        "perc_classifier.intercept_"
      ],
      "metadata": {
        "colab": {
          "base_uri": "https://localhost:8080/"
        },
        "id": "QJGJ5WVznBIV",
        "outputId": "7a93bd94-79dc-4a82-e2d6-f32a5b6e2c80"
      },
      "execution_count": null,
      "outputs": [
        {
          "output_type": "execute_result",
          "data": {
            "text/plain": [
              "array([-1.])"
            ]
          },
          "metadata": {},
          "execution_count": 31
        }
      ]
    },
    {
      "cell_type": "code",
      "metadata": {
        "id": "-b4WRY3BTUiP",
        "colab": {
          "base_uri": "https://localhost:8080/",
          "height": 619
        },
        "outputId": "dad8ccd2-893c-4e52-ffe1-94ff5fe3c602"
      },
      "source": [
        "plt.figure(figsize=(12,7))\n",
        "plt.scatter(setosa[:, 0], setosa[:, 1], label='setosa')\n",
        "plt.scatter(not_setosa[:, 0], not_setosa[:, 1], label='not setosa', marker='x')\n",
        "\n",
        "# Plot the DS\n",
        "\n",
        "coef = perc_classifier.coef_.flatten() # weights\n",
        "w0 = perc_classifier.intercept_ # bias\n",
        "w1 = coef[0]\n",
        "w2 = coef[1]\n",
        "\n",
        "step = 100\n",
        "ds_x1 = np.linspace(X[:,0].min(), X[:,0].max(), step)\n",
        "# Compute x2 componenent given some x1:\n",
        "# w^T x + x0 = 0 -> w0 + w1 * x1 + w2 * x2 = 0 -> x2 = - (w0 + w1*x1) / w2\n",
        "ds_x2 = [-(w0 + w1*x1) / w2 for x1 in ds_x1]\n",
        "plt.plot(ds_x1, ds_x2, label='DS')\n",
        "\n",
        "plt.xlabel('x1')\n",
        "plt.ylabel('x2')\n",
        "plt.grid()\n",
        "plt.legend()\n",
        "plt.show()"
      ],
      "execution_count": null,
      "outputs": [
        {
          "output_type": "display_data",
          "data": {
            "text/plain": [
              "<Figure size 1200x700 with 1 Axes>"
            ],
            "image/png": "[encoded data removed]"
          },
          "metadata": {}
        }
      ]
    },
    {
      "cell_type": "code",
      "metadata": {
        "id": "IRZF9ggiunIA"
      },
      "source": [
        "t_pred = perc_classifier.predict(X)"
      ],
      "execution_count": null,
      "outputs": []
    },
    {
      "cell_type": "code",
      "metadata": {
        "id": "gSRXb5feN-d0",
        "colab": {
          "base_uri": "https://localhost:8080/"
        },
        "outputId": "c12872ca-d8cb-4fbb-f3f8-33c6390d469d"
      },
      "source": [
        "confusion_matrix(t, t_pred)"
      ],
      "execution_count": null,
      "outputs": [
        {
          "output_type": "execute_result",
          "data": {
            "text/plain": [
              "array([[100,   0],\n",
              "       [  0,  50]])"
            ]
          },
          "metadata": {},
          "execution_count": 34
        }
      ]
    },
    {
      "cell_type": "code",
      "metadata": {
        "id": "qNV35vVKOGHX",
        "colab": {
          "base_uri": "https://localhost:8080/"
        },
        "outputId": "e7991ced-f52b-49a4-b9b1-7d0f55dc72f5"
      },
      "source": [
        "accuracy_score(t, t_pred)"
      ],
      "execution_count": null,
      "outputs": [
        {
          "output_type": "execute_result",
          "data": {
            "text/plain": [
              "1.0"
            ]
          },
          "metadata": {},
          "execution_count": 35
        }
      ]
    },
    {
      "cell_type": "code",
      "metadata": {
        "id": "oamGmN8tOGkc",
        "colab": {
          "base_uri": "https://localhost:8080/"
        },
        "outputId": "a6d8df36-d0e9-438e-8640-4e3b2d6fe7e0"
      },
      "source": [
        "precision_score(t, t_pred)"
      ],
      "execution_count": null,
      "outputs": [
        {
          "output_type": "execute_result",
          "data": {
            "text/plain": [
              "1.0"
            ]
          },
          "metadata": {},
          "execution_count": 36
        }
      ]
    },
    {
      "cell_type": "code",
      "metadata": {
        "id": "DGTi55tQOOCr",
        "colab": {
          "base_uri": "https://localhost:8080/"
        },
        "outputId": "de627806-bdac-4271-ba28-66678b398503"
      },
      "source": [
        "recall_score(t, t_pred)"
      ],
      "execution_count": null,
      "outputs": [
        {
          "output_type": "execute_result",
          "data": {
            "text/plain": [
              "1.0"
            ]
          },
          "metadata": {},
          "execution_count": 37
        }
      ]
    },
    {
      "cell_type": "code",
      "metadata": {
        "id": "s3lFrdxPOT7L",
        "colab": {
          "base_uri": "https://localhost:8080/"
        },
        "outputId": "20c854dd-60cc-4565-be8b-51dd30127f76"
      },
      "source": [
        "f1_score(t, t_pred)"
      ],
      "execution_count": null,
      "outputs": [
        {
          "output_type": "execute_result",
          "data": {
            "text/plain": [
              "1.0"
            ]
          },
          "metadata": {},
          "execution_count": 38
        }
      ]
    },
    {
      "cell_type": "markdown",
      "metadata": {
        "id": "qNa7o0t9VrBp"
      },
      "source": [
        "### Implementing the Perceptron classifier"
      ]
    },
    {
      "cell_type": "code",
      "metadata": {
        "id": "njD0BxxNVnKi"
      },
      "source": [
        "w = np.ones(3)\n",
        "n_epochs = ...\n",
        "\n",
        "# YOUR CODE HERE\n",
        "\n",
        "# recall that perceptron needs labels -1 and 1 (instead of 0 and 1)\n",
        "\n",
        "# for every epoch...\n",
        "#   for every sample in the dataset...\n",
        "#     if the sample is missclassified\n",
        "#       update the weights"
      ],
      "execution_count": null,
      "outputs": []
    },
    {
      "cell_type": "markdown",
      "source": [
        "### How can you detect when convergence has been reached? How many epochs did it take? Is this dependent on initialization? Is this dependent on data pre-processing?"
      ],
      "metadata": {
        "id": "5pl-S_rDkB0Y"
      }
    },
    {
      "cell_type": "markdown",
      "metadata": {
        "id": "BEY8zlazg3Xf"
      },
      "source": [
        "Notice that this procedure will stop if the classes are linearly separable, while it does not stop if the two classes are overlapping.\n",
        "\n",
        "Moreover, we do not know how long the procedure will take to reach convergence.\n",
        "\n",
        "This makes impossible to distinguish between a procedure which is *slowly converging* to a *non-linearly separable* setting.\n"
      ]
    },
    {
      "cell_type": "code",
      "metadata": {
        "id": "YK-tBaibAu9T"
      },
      "source": [
        "# Since we would rewrite the same code, it is a good idea to write a function\n",
        "def plot_ds(X, w, step=100, label='DS'):\n",
        "  ds_x1 = np.linspace(X[:,0].min(), X[:,0].max(), step)\n",
        "  ds_x2 = [-(w[0] + w[1]*x1) / w[2] for x1 in ds_x1]\n",
        "  plt.plot(ds_x1, ds_x2, label=label)"
      ],
      "execution_count": null,
      "outputs": []
    },
    {
      "cell_type": "code",
      "metadata": {
        "id": "ENFrAY_-ctui"
      },
      "source": [
        "plt.figure(figsize=(12,7))\n",
        "plt.scatter(setosa[:, 0], setosa[:, 1], label='setosa')\n",
        "plt.scatter(not_setosa[:, 0], not_setosa[:, 1], label='not setosa', marker='x')\n",
        "\n",
        "# Implemented Perceptron\n",
        "plot_ds(X, w, label='Implemented Perceptron DS')\n",
        "\n",
        "# Sklearn Perceptron\n",
        "coef = perc_classifier.coef_.flatten() # weights\n",
        "w0 = perc_classifier.intercept_ # bias\n",
        "w0\n",
        "\n",
        "perc_w = np.array([w0.item(), coef[0], coef[1]])\n",
        "plot_ds(X, perc_w, label='Scikit-Learn Perceptron DS')\n",
        "\n",
        "plt.xlabel('x1')\n",
        "plt.ylabel('x2')\n",
        "plt.grid()\n",
        "plt.legend()\n",
        "plt.show()"
      ],
      "execution_count": null,
      "outputs": []
    },
    {
      "cell_type": "markdown",
      "metadata": {
        "id": "wxIFp1WbZGhI"
      },
      "source": [
        "## Probabilistic Discriminative Approach: Logistic Regression\n",
        "\n",
        "Let us change the methods for the classification task and use a Logistic regression classifier with two classes:\n",
        "- Hypothesis space: $y_n = y(x_n) = \\sigma(w_0 + x_{n1} w_1 + x_{n2} w_2)$;\n",
        "- Loss measure: Loglikelihood $L(\\mathbf{w}) = -\\sum_{n=1}^N  [C_n \\ln y_n + (1 - C_n) \\ln (1 - y_n)]$;\n",
        "- Optimization method: Gradient Descent;\n",
        "\n",
        "where the sigmoid function is defined as $\\sigma(x) = \\frac{1}{1 + e^{-x}}$."
      ]
    },
    {
      "cell_type": "code",
      "metadata": {
        "id": "oBKWho_Seb8Y"
      },
      "source": [
        "from sklearn.linear_model import LogisticRegression\n",
        "\n",
        "log_classifier = LogisticRegression(penalty=None) # default is penalty='l2', that is l2 regularization!\n",
        "log_classifier.fit(X, t)"
      ],
      "execution_count": null,
      "outputs": []
    },
    {
      "cell_type": "code",
      "metadata": {
        "id": "4yrxMxtKgwPo"
      },
      "source": [
        "# compare perceptron, by hand and logistic regression\n",
        "plt.figure(figsize=(12,7))\n",
        "plt.scatter(setosa[:, 0], setosa[:, 1], label='setosa')\n",
        "plt.scatter(not_setosa[:, 0], not_setosa[:, 1], label='not setosa', marker='x')\n",
        "\n",
        "# Implemented Perceptron\n",
        "plot_ds(X, w, label='Implemented Perceptron DS')\n",
        "\n",
        "# Sklearn Perceptron\n",
        "coef = perc_classifier.coef_.flatten() # weights\n",
        "w0 = perc_classifier.intercept_ # bias\n",
        "perc_w = np.array([w0.item(), coef[0], coef[1]])\n",
        "plot_ds(X, perc_w, label='Scikit-Learn Perceptron DS')\n",
        "\n",
        "# Sklearn Logistic Regression\n",
        "coef = log_classifier.coef_.flatten() # weights\n",
        "w0 = log_classifier.intercept_ # bias\n",
        "log_w = np.array([w0.item(), coef[0], coef[1]])\n",
        "plot_ds(X, log_w, label='Scikit-Learn Logistic Regression DS')\n",
        "\n",
        "plt.xlabel('x1')\n",
        "plt.ylabel('x2')\n",
        "plt.grid()\n",
        "plt.legend()\n",
        "plt.show()"
      ],
      "execution_count": null,
      "outputs": []
    },
    {
      "cell_type": "markdown",
      "metadata": {
        "id": "iC6B8SgI-fkw"
      },
      "source": [
        "If we perform the $logit(x) = \\log(\\frac{x}{1-x})$ transformation to the output we have:\n",
        "$$ logit(y_n) = w_0 + x_{n1} w_1 + x_{n2} w_2,$$\n",
        "and, thus, we have the same statistical characterization of the parameters $\\mathbf{w}$ as we had in the linear regression if we consider as output a specific transformation of the target, i.e., we can perform hypothesis testing on the significance of the parameters."
      ]
    },
    {
      "cell_type": "markdown",
      "metadata": {
        "id": "ngTEMbeezfCw"
      },
      "source": [
        "### Multiple Classes"
      ]
    },
    {
      "cell_type": "code",
      "metadata": {
        "id": "rcDUVnyRzmet"
      },
      "source": [
        "multi_t = dataset['class']\n",
        "multi_log_classifier = LogisticRegression()\n",
        "multi_log_classifier.fit(X, multi_t)"
      ],
      "execution_count": null,
      "outputs": []
    },
    {
      "cell_type": "markdown",
      "metadata": {
        "id": "Xa8I4Bl7ZTzA"
      },
      "source": [
        "## Probabilistic Generative Approach: Naive Bayes (Setosa vs non-Setosa)\n",
        "\n",
        "Generative models have the purpose of modeling the joint pdf of the couple input/output $p(C_k,\\mathbf{x})$, which allows us to generate also **new data** from what we learned.\n",
        "\n",
        "This is different from the probabilistic discriminative models, in which we are only interested in computing the probabilities that a given input is coming from a specific class $p(C_k | \\mathbf{x})$, which is not sufficient to produce new samples.\n",
        "\n",
        "Conversely, we will see how it is possible to generate new samples if we are provided with an approximation of the joint input/output distribution $p(C_k,\\mathbf{x})$.\n",
        "\n",
        "In this case, the Naive Bayes method considers the **naive assumption** that each input is conditionally (w.r.t. the class) independent from each other.\n",
        "If we consider the Bayes formula we have:\n",
        "\\begin{align*}\n",
        "\t& p(C_k | \\mathbf{x}) = \\frac{p(C_k) \\ p(\\mathbf{x} | C_k)}{p(\\mathbf{x})} \\\\\n",
        "\t& \\propto p(x_1, \\ldots, x_M, C_k)\\\\\n",
        "\t& = p(x_1 | x_2, \\ldots, x_M, C_k) p(x_2, \\ldots, x_M, C_k) \\\\\n",
        "\t& = p(x_1 | x_2, \\ldots, x_M, C_k) p(x_2 | x_3, \\ldots, x_M, C_k) p(x_3, \\ldots, x_n, C_k) \\\\\n",
        "\t& = p(x_1 \\vert x_2, \\ldots, x_M, C_k) \\ldots p(x_M | C_k) p(C_k) \\\\\n",
        "\t& = p(x_1 \\vert C_k) \\ldots p(x_M | C_k) p(C_k) \\\\\n",
        "\t& = p(C_k) \\prod_{j=1}^M p(x_j | C_k).\n",
        "\\end{align*}\n",
        "\n",
        "The decision function, which maximises the Maximum A Posteriori probability, is the following:\n",
        "\\begin{equation*}\n",
        "\ty(\\mathbf{x}) = \\arg \\max_k p(C_k) \\prod_{j=1}^M p(x_j | C_k),\n",
        "\\end{equation*}\n",
        "where as usual we do not consider the normalization factor $p(\\mathbf{x})$.\n",
        "\n",
        "In a specific case we have to define a prior distribution for the classes $p(C_k) \\ \\forall k$ and a distribution to compute the likelihood of the considered samples $p(x_j | C_k) \\ \\forall J, \\ \\forall k$.\n",
        "\n",
        "In the case of continuous variable one of the usual assumption is to use Gaussian distributions for each variable $p(x_j | C_k) = \\mathcal{N}(x_j;\\mu_{jk},\\sigma^2_{jk})$ and either a uniform prior $p(C_k) = \\frac{1}{K}$ or a multinomial prior based on the samples proportions $p(C_k) = \\frac{\\sum_{i=1}^N I \\{\\mathbf{x}_n \\in C_k \\}}{N}$, where $I\\{\\cdot\\}$ is the indicator function.\n",
        "\n",
        "The complete model of Naive Bayes is:\n",
        "- Hypothesis space: $y_n = y(x_n) = \\arg \\max_k p(C_k) \\prod_{j=1}^M p(x_j | C_k)$;\n",
        "- Loss measure: Log likelihood;\n",
        "- Optimization method: MLE.\n"
      ]
    },
    {
      "cell_type": "code",
      "metadata": {
        "id": "bqcCcgv_Z-ZL"
      },
      "source": [
        "from sklearn.naive_bayes import GaussianNB\n",
        "\n",
        "gnb_classifier = GaussianNB()\n",
        "gnb_classifier.fit(X, t)\n",
        "t_pred = gnb_classifier.predict(X)\n",
        "\n",
        "print(accuracy_score(t, t_pred))\n",
        "print(recall_score(t, t_pred))\n",
        "print(precision_score(t, t_pred))\n",
        "print(confusion_matrix(t, t_pred))"
      ],
      "execution_count": null,
      "outputs": []
    },
    {
      "cell_type": "markdown",
      "metadata": {
        "id": "GXthLrLUacdT"
      },
      "source": [
        "### Generate new data\n",
        "\n",
        "Using the estimated priors $p(C_k)$ and likelihoods $p(x_j | C_k) = \\mathcal{N}(x_j;\\mu_{jk},\\sigma^2_{jk})$ it is possible to generate new data.\n"
      ]
    },
    {
      "cell_type": "code",
      "metadata": {
        "id": "wg_P4DvTaS4C"
      },
      "source": [
        "N = 100\n",
        "\n",
        "new_samples = np.empty((N, 2))\n",
        "new_t = np.empty(N, dtype=bool)\n",
        "\n",
        "for i in range(N):\n",
        "  # Based on the class priors, we sample a class\n",
        "  class_ = np.random.choice([0,1], p=gnb_classifier.class_prior_)\n",
        "  new_t[i] = class_\n",
        "\n",
        "  # For each feature, we have a normal distribution of its likelihood given the class\n",
        "\n",
        "  # theta: mean of each feature per class (n_classes, n_features)\n",
        "  thetas = gnb_classifier.theta_[class_, :]\n",
        "\n",
        "  # sigma: variance of each feature per class (n_classes, n_features)\n",
        "  sigmas = gnb_classifier.var_[class_, :]\n",
        "\n",
        "  # sample x1\n",
        "  new_samples[i,0] = np.random.normal(thetas[0], sigmas[0], 1)\n",
        "  # sample x2\n",
        "  new_samples[i,1] = np.random.normal(thetas[1], sigmas[1], 1)\n",
        "\n",
        "# divide samples by class\n",
        "new_setosa = new_samples[new_t, :]\n",
        "new_not_setosa = new_samples[~new_t, :]"
      ],
      "execution_count": null,
      "outputs": []
    },
    {
      "cell_type": "code",
      "metadata": {
        "id": "AhgePJ8xFj9j"
      },
      "source": [
        "plt.figure(figsize=(12,7))\n",
        "\n",
        "# plot real samples\n",
        "plt.scatter(setosa[:, 0], setosa[:, 1], label='setosa', color='red')\n",
        "plt.scatter(not_setosa[:, 0], not_setosa[:, 1], label='not setosa', color='blue')\n",
        "\n",
        "# plot generated samples\n",
        "plt.scatter(new_setosa[:, 0], new_setosa[:, 1], label='new, setosa', color='red', marker='x', alpha=0.3)\n",
        "plt.scatter(new_not_setosa[:, 0], new_not_setosa[:, 1], label='new, not setosa', color='blue', marker='x', alpha=0.3)\n",
        "\n",
        "plt.xlabel('x1')\n",
        "plt.ylabel('x2')\n",
        "plt.grid()\n",
        "plt.legend()\n",
        "plt.show()"
      ],
      "execution_count": null,
      "outputs": []
    },
    {
      "cell_type": "markdown",
      "metadata": {
        "id": "rAdrDasEPmOo"
      },
      "source": [
        "\n",
        "Notice that the Naive Bayes is **not** a Bayesian method.\n",
        "\n",
        "Indeed, the priors we compute are estimated from data, and not updated using likelihoods.\n",
        "\n",
        "This makes Naive Bayes a method which uses the Bayes theorem to model the independence among the input, given the classes."
      ]
    },
    {
      "cell_type": "markdown",
      "metadata": {
        "id": "C0hL69BX0AOJ"
      },
      "source": [
        "# Homework"
      ]
    },
    {
      "cell_type": "markdown",
      "metadata": {
        "id": "_1JemVH-86SN"
      },
      "source": [
        "## Implementing Logistic Regression\n",
        "\n",
        "Implement the learning algorithm for the logistic regression on the Iris dataset by relying on the batch gradient descent optimization.\n",
        "\n",
        "In which situation the use of this optimization algorithm is a good idea?"
      ]
    },
    {
      "cell_type": "code",
      "metadata": {
        "id": "noqAg0ZA85sh"
      },
      "source": [
        "from scipy.stats import zscore\n",
        "from sklearn.utils import shuffle\n",
        "\n",
        "X = zscore(dataset[['sepal-length', 'sepal-width']].values)\n",
        "t = dataset['class'].values == 'Iris-setosa'\n",
        "X, t = shuffle(X, t, random_state=0) # this time we have to do it!\n",
        "\n",
        "### WRITE YOUR CODE HERE ###\n"
      ],
      "execution_count": null,
      "outputs": []
    },
    {
      "cell_type": "markdown",
      "metadata": {
        "id": "KyZpgCzc9Xzx"
      },
      "source": [
        "## Classifying molluscs - Part 1\n",
        "\n",
        "Have you ever dreamt of becoming a marine biologist?\n",
        "\n",
        "<img src='https://drive.google.com/uc?id=1HWK914cQIUokpZooG6PrgYbwtSKOQdoi' width=300/>  \n",
        "\n",
        "Now, you can (almost) realize your dream by classifying molluscs ([abalones](https://en.wikipedia.org/wiki/Abalone)) with the [Abalone dataset](http://archive.ics.uci.edu/ml/datasets/abalone)!\n",
        "\n",
        "Train a **perceptron** which uses the Length and Height of the shell to predict if an Abalone is *Male* or *Female* (remove the infants from the dataset analysed).\n"
      ]
    },
    {
      "cell_type": "code",
      "metadata": {
        "id": "4nkKhbLBDRFv"
      },
      "source": [
        "abalone_df = pd.read_csv('http://archive.ics.uci.edu/ml/machine-learning-databases/abalone/abalone.data',\n",
        "                         names=['Sex', 'Length', 'Diameter', 'Height', 'Whole weight', 'Shucked weight', 'Viscera weight', 'Shell weight', 'Ring'])\n",
        "\n",
        "### WRITE YOUR CODE HERE ###"
      ],
      "execution_count": null,
      "outputs": []
    },
    {
      "cell_type": "markdown",
      "metadata": {
        "id": "YsHikwmzE7gM"
      },
      "source": [
        "## Classifying molluscs - Part 2\n",
        "\n",
        "Train a **logistic regression** which uses the Length and Height of the shell to predict if an Abalone is *Male* or *Female* (remove the infants from the dataset analysed).\n",
        "\n",
        "Plot the separating hyperplane obtained by the logistic regression."
      ]
    },
    {
      "cell_type": "code",
      "metadata": {
        "id": "QKyJVEjaFaTw"
      },
      "source": [
        "### WRITE YOUR CODE HERE ###"
      ],
      "execution_count": null,
      "outputs": []
    },
    {
      "cell_type": "markdown",
      "metadata": {
        "id": "3FgCNs64SezR"
      },
      "source": [
        "## Find the error\n",
        "- Describe the process and purpose of what is implemented in this snippet.\n",
        "\n",
        "- Tell if the method is sound or if it is necessary to modify the procedure.\n",
        "\n",
        "- After fixing the error, try to evaluate the performance: is it the method sound? Can you still find some problem?\n",
        "\n",
        "\n"
      ]
    },
    {
      "cell_type": "code",
      "metadata": {
        "id": "jIzZb0y5JSOa"
      },
      "source": [
        "from sklearn import linear_model\n",
        "\n",
        "# Load iris dataset\n",
        "X = dataset['sepal-length'].values\n",
        "t = dataset['class'].values == 'Iris-setosa'\n",
        "X, t = shuffle(X, t, random_state=0) # this time we have to do it!\n",
        "\n",
        "# Select 2 set of features\n",
        "phi = zscore(np.array([X, X**2]).T)\n",
        "X = zscore(X).reshape(-1, 1)\n",
        "\n",
        "# fit a regression\n",
        "lin_model = linear_model.LinearRegression()\n",
        "lin_model.fit(X, t)\n",
        "lin_pred = lin_model.predict(X) > 0.5\n",
        "\n",
        "# fit a regression with a quadratic feature\n",
        "qua_model = linear_model.LinearRegression()\n",
        "qua_model.fit(phi, t)\n",
        "qua_pred = qua_model.predict(phi) > 0.5\n",
        "\n",
        "n = len(dataset)\n",
        "\n",
        "# Compute the adjusted R2\n",
        "m = X.shape[1] + 1\n",
        "lin_R2 = accuracy_score(t, lin_pred)\n",
        "lin_adj_R2 = 1-(1-lin_R2)*(n-1)/(n-m)\n",
        "\n",
        "# Compute the adjusted R2\n",
        "m = X.shape[1] + 1\n",
        "qua_R2 = accuracy_score(t, qua_pred)\n",
        "qua_adj_R2 = 1-(1-qua_R2)*(n-1)/(n-m)\n",
        "\n",
        "if qua_adj_R2 > lin_adj_R2:\n",
        "  t_pred = lin_pred\n",
        "else:\n",
        "  t_pred = qua_pred"
      ],
      "execution_count": null,
      "outputs": []
    }
  ]
}